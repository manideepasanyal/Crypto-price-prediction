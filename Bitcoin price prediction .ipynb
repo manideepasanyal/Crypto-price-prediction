{
 "cells": [
  {
   "cell_type": "code",
   "execution_count": 74,
   "id": "382d9d83",
   "metadata": {},
   "outputs": [],
   "source": [
    "import numpy as np\n",
    "import pandas as pd\n",
    "import matplotlib.pyplot as plt\n",
    "import seaborn as sns\n",
    "import sklearn\n",
    "from sklearn.linear_model import LinearRegression\n",
    "import plotly.express as px\n",
    "from sklearn.model_selection import train_test_split\n",
    "from sklearn import metrics\n",
    "from sklearn.metrics import r2_score"
   ]
  },
  {
   "cell_type": "markdown",
   "id": "852222cb",
   "metadata": {},
   "source": [
    "# NEW MODEL"
   ]
  },
  {
   "cell_type": "code",
   "execution_count": 2,
   "id": "04c339cc",
   "metadata": {},
   "outputs": [],
   "source": [
    "bitcoin_df = pd.read_csv('Project.csv')"
   ]
  },
  {
   "cell_type": "code",
   "execution_count": 3,
   "id": "55c00bd1",
   "metadata": {},
   "outputs": [
    {
     "data": {
      "text/html": [
       "<div>\n",
       "<style scoped>\n",
       "    .dataframe tbody tr th:only-of-type {\n",
       "        vertical-align: middle;\n",
       "    }\n",
       "\n",
       "    .dataframe tbody tr th {\n",
       "        vertical-align: top;\n",
       "    }\n",
       "\n",
       "    .dataframe thead th {\n",
       "        text-align: right;\n",
       "    }\n",
       "</style>\n",
       "<table border=\"1\" class=\"dataframe\">\n",
       "  <thead>\n",
       "    <tr style=\"text-align: right;\">\n",
       "      <th></th>\n",
       "      <th>Timestamp</th>\n",
       "      <th>avg-block-size</th>\n",
       "      <th>fees-usd-per-transaction</th>\n",
       "      <th>market-price</th>\n",
       "      <th>miners-revenue</th>\n",
       "      <th>trade-volume</th>\n",
       "      <th>difficulty</th>\n",
       "      <th>GLDPrice</th>\n",
       "      <th>Adj Close</th>\n",
       "    </tr>\n",
       "  </thead>\n",
       "  <tbody>\n",
       "    <tr>\n",
       "      <th>0</th>\n",
       "      <td>18-09-2014 00:00</td>\n",
       "      <td>0.236703</td>\n",
       "      <td>0.072554</td>\n",
       "      <td>425.56</td>\n",
       "      <td>2423050.762</td>\n",
       "      <td>9.378125e+06</td>\n",
       "      <td>2.982973e+10</td>\n",
       "      <td>15.91</td>\n",
       "      <td>328.539368</td>\n",
       "    </tr>\n",
       "    <tr>\n",
       "      <th>1</th>\n",
       "      <td>24-09-2014 00:00</td>\n",
       "      <td>0.285509</td>\n",
       "      <td>0.072386</td>\n",
       "      <td>423.68</td>\n",
       "      <td>1964038.526</td>\n",
       "      <td>6.001796e+06</td>\n",
       "      <td>2.982973e+10</td>\n",
       "      <td>15.24</td>\n",
       "      <td>331.250000</td>\n",
       "    </tr>\n",
       "    <tr>\n",
       "      <th>2</th>\n",
       "      <td>30-09-2014 00:00</td>\n",
       "      <td>0.297151</td>\n",
       "      <td>0.057961</td>\n",
       "      <td>390.18</td>\n",
       "      <td>1640655.870</td>\n",
       "      <td>5.593043e+06</td>\n",
       "      <td>3.466143e+10</td>\n",
       "      <td>14.58</td>\n",
       "      <td>306.417480</td>\n",
       "    </tr>\n",
       "    <tr>\n",
       "      <th>3</th>\n",
       "      <td>03-10-2014 00:00</td>\n",
       "      <td>0.289027</td>\n",
       "      <td>0.060243</td>\n",
       "      <td>358.90</td>\n",
       "      <td>1517310.193</td>\n",
       "      <td>7.318369e+06</td>\n",
       "      <td>3.466143e+10</td>\n",
       "      <td>14.08</td>\n",
       "      <td>287.264862</td>\n",
       "    </tr>\n",
       "    <tr>\n",
       "      <th>4</th>\n",
       "      <td>06-10-2014 00:00</td>\n",
       "      <td>0.280037</td>\n",
       "      <td>0.052130</td>\n",
       "      <td>327.61</td>\n",
       "      <td>1486380.208</td>\n",
       "      <td>2.279554e+07</td>\n",
       "      <td>3.466143e+10</td>\n",
       "      <td>14.16</td>\n",
       "      <td>261.076508</td>\n",
       "    </tr>\n",
       "  </tbody>\n",
       "</table>\n",
       "</div>"
      ],
      "text/plain": [
       "          Timestamp  avg-block-size  fees-usd-per-transaction  market-price  \\\n",
       "0  18-09-2014 00:00        0.236703                  0.072554        425.56   \n",
       "1  24-09-2014 00:00        0.285509                  0.072386        423.68   \n",
       "2  30-09-2014 00:00        0.297151                  0.057961        390.18   \n",
       "3  03-10-2014 00:00        0.289027                  0.060243        358.90   \n",
       "4  06-10-2014 00:00        0.280037                  0.052130        327.61   \n",
       "\n",
       "   miners-revenue  trade-volume    difficulty  GLDPrice   Adj Close  \n",
       "0     2423050.762  9.378125e+06  2.982973e+10     15.91  328.539368  \n",
       "1     1964038.526  6.001796e+06  2.982973e+10     15.24  331.250000  \n",
       "2     1640655.870  5.593043e+06  3.466143e+10     14.58  306.417480  \n",
       "3     1517310.193  7.318369e+06  3.466143e+10     14.08  287.264862  \n",
       "4     1486380.208  2.279554e+07  3.466143e+10     14.16  261.076508  "
      ]
     },
     "execution_count": 3,
     "metadata": {},
     "output_type": "execute_result"
    }
   ],
   "source": [
    "bitcoin_df.head()"
   ]
  },
  {
   "cell_type": "code",
   "execution_count": 4,
   "id": "999df972",
   "metadata": {},
   "outputs": [
    {
     "data": {
      "text/plain": [
       "Timestamp                   1\n",
       "avg-block-size              1\n",
       "fees-usd-per-transaction    1\n",
       "market-price                1\n",
       "miners-revenue              1\n",
       "trade-volume                1\n",
       "difficulty                  1\n",
       "GLDPrice                    1\n",
       "Adj Close                   1\n",
       "dtype: int64"
      ]
     },
     "execution_count": 4,
     "metadata": {},
     "output_type": "execute_result"
    }
   ],
   "source": [
    "bitcoin_df.isnull().sum()"
   ]
  },
  {
   "cell_type": "code",
   "execution_count": 5,
   "id": "04a2a428",
   "metadata": {},
   "outputs": [],
   "source": [
    "bitcoin_df.dropna(how = \"all\", inplace = True)"
   ]
  },
  {
   "cell_type": "code",
   "execution_count": 6,
   "id": "e597c28c",
   "metadata": {},
   "outputs": [
    {
     "data": {
      "text/plain": [
       "Timestamp                   0\n",
       "avg-block-size              0\n",
       "fees-usd-per-transaction    0\n",
       "market-price                0\n",
       "miners-revenue              0\n",
       "trade-volume                0\n",
       "difficulty                  0\n",
       "GLDPrice                    0\n",
       "Adj Close                   0\n",
       "dtype: int64"
      ]
     },
     "execution_count": 6,
     "metadata": {},
     "output_type": "execute_result"
    }
   ],
   "source": [
    "bitcoin_df.isnull().sum()"
   ]
  },
  {
   "cell_type": "code",
   "execution_count": 86,
   "id": "4ac40cab",
   "metadata": {},
   "outputs": [],
   "source": [
    "cor = bitcoin_df.corr()"
   ]
  },
  {
   "cell_type": "code",
   "execution_count": 87,
   "id": "2c4dfb1d",
   "metadata": {},
   "outputs": [
    {
     "data": {
      "text/html": [
       "<div>\n",
       "<style scoped>\n",
       "    .dataframe tbody tr th:only-of-type {\n",
       "        vertical-align: middle;\n",
       "    }\n",
       "\n",
       "    .dataframe tbody tr th {\n",
       "        vertical-align: top;\n",
       "    }\n",
       "\n",
       "    .dataframe thead th {\n",
       "        text-align: right;\n",
       "    }\n",
       "</style>\n",
       "<table border=\"1\" class=\"dataframe\">\n",
       "  <thead>\n",
       "    <tr style=\"text-align: right;\">\n",
       "      <th></th>\n",
       "      <th>avg-block-size</th>\n",
       "      <th>fees-usd-per-transaction</th>\n",
       "      <th>market-price</th>\n",
       "      <th>miners-revenue</th>\n",
       "      <th>trade-volume</th>\n",
       "      <th>difficulty</th>\n",
       "      <th>GLDPrice</th>\n",
       "      <th>Adj Close</th>\n",
       "    </tr>\n",
       "  </thead>\n",
       "  <tbody>\n",
       "    <tr>\n",
       "      <th>avg-block-size</th>\n",
       "      <td>1.000000</td>\n",
       "      <td>0.299276</td>\n",
       "      <td>0.705144</td>\n",
       "      <td>0.571689</td>\n",
       "      <td>0.264143</td>\n",
       "      <td>0.715390</td>\n",
       "      <td>0.613783</td>\n",
       "      <td>0.719210</td>\n",
       "    </tr>\n",
       "    <tr>\n",
       "      <th>fees-usd-per-transaction</th>\n",
       "      <td>0.299276</td>\n",
       "      <td>1.000000</td>\n",
       "      <td>0.510858</td>\n",
       "      <td>0.670796</td>\n",
       "      <td>0.566389</td>\n",
       "      <td>0.120787</td>\n",
       "      <td>0.158262</td>\n",
       "      <td>0.500731</td>\n",
       "    </tr>\n",
       "    <tr>\n",
       "      <th>market-price</th>\n",
       "      <td>0.705144</td>\n",
       "      <td>0.510858</td>\n",
       "      <td>1.000000</td>\n",
       "      <td>0.874087</td>\n",
       "      <td>0.513486</td>\n",
       "      <td>0.781287</td>\n",
       "      <td>0.489983</td>\n",
       "      <td>0.998492</td>\n",
       "    </tr>\n",
       "    <tr>\n",
       "      <th>miners-revenue</th>\n",
       "      <td>0.571689</td>\n",
       "      <td>0.670796</td>\n",
       "      <td>0.874087</td>\n",
       "      <td>1.000000</td>\n",
       "      <td>0.661605</td>\n",
       "      <td>0.520570</td>\n",
       "      <td>0.236460</td>\n",
       "      <td>0.877853</td>\n",
       "    </tr>\n",
       "    <tr>\n",
       "      <th>trade-volume</th>\n",
       "      <td>0.264143</td>\n",
       "      <td>0.566389</td>\n",
       "      <td>0.513486</td>\n",
       "      <td>0.661605</td>\n",
       "      <td>1.000000</td>\n",
       "      <td>0.085060</td>\n",
       "      <td>-0.047452</td>\n",
       "      <td>0.502165</td>\n",
       "    </tr>\n",
       "    <tr>\n",
       "      <th>difficulty</th>\n",
       "      <td>0.715390</td>\n",
       "      <td>0.120787</td>\n",
       "      <td>0.781287</td>\n",
       "      <td>0.520570</td>\n",
       "      <td>0.085060</td>\n",
       "      <td>1.000000</td>\n",
       "      <td>0.659471</td>\n",
       "      <td>0.797096</td>\n",
       "    </tr>\n",
       "    <tr>\n",
       "      <th>GLDPrice</th>\n",
       "      <td>0.613783</td>\n",
       "      <td>0.158262</td>\n",
       "      <td>0.489983</td>\n",
       "      <td>0.236460</td>\n",
       "      <td>-0.047452</td>\n",
       "      <td>0.659471</td>\n",
       "      <td>1.000000</td>\n",
       "      <td>0.496928</td>\n",
       "    </tr>\n",
       "    <tr>\n",
       "      <th>Adj Close</th>\n",
       "      <td>0.719210</td>\n",
       "      <td>0.500731</td>\n",
       "      <td>0.998492</td>\n",
       "      <td>0.877853</td>\n",
       "      <td>0.502165</td>\n",
       "      <td>0.797096</td>\n",
       "      <td>0.496928</td>\n",
       "      <td>1.000000</td>\n",
       "    </tr>\n",
       "  </tbody>\n",
       "</table>\n",
       "</div>"
      ],
      "text/plain": [
       "                          avg-block-size  fees-usd-per-transaction  \\\n",
       "avg-block-size                  1.000000                  0.299276   \n",
       "fees-usd-per-transaction        0.299276                  1.000000   \n",
       "market-price                    0.705144                  0.510858   \n",
       "miners-revenue                  0.571689                  0.670796   \n",
       "trade-volume                    0.264143                  0.566389   \n",
       "difficulty                      0.715390                  0.120787   \n",
       "GLDPrice                        0.613783                  0.158262   \n",
       "Adj Close                       0.719210                  0.500731   \n",
       "\n",
       "                          market-price  miners-revenue  trade-volume  \\\n",
       "avg-block-size                0.705144        0.571689      0.264143   \n",
       "fees-usd-per-transaction      0.510858        0.670796      0.566389   \n",
       "market-price                  1.000000        0.874087      0.513486   \n",
       "miners-revenue                0.874087        1.000000      0.661605   \n",
       "trade-volume                  0.513486        0.661605      1.000000   \n",
       "difficulty                    0.781287        0.520570      0.085060   \n",
       "GLDPrice                      0.489983        0.236460     -0.047452   \n",
       "Adj Close                     0.998492        0.877853      0.502165   \n",
       "\n",
       "                          difficulty  GLDPrice  Adj Close  \n",
       "avg-block-size              0.715390  0.613783   0.719210  \n",
       "fees-usd-per-transaction    0.120787  0.158262   0.500731  \n",
       "market-price                0.781287  0.489983   0.998492  \n",
       "miners-revenue              0.520570  0.236460   0.877853  \n",
       "trade-volume                0.085060 -0.047452   0.502165  \n",
       "difficulty                  1.000000  0.659471   0.797096  \n",
       "GLDPrice                    0.659471  1.000000   0.496928  \n",
       "Adj Close                   0.797096  0.496928   1.000000  "
      ]
     },
     "execution_count": 87,
     "metadata": {},
     "output_type": "execute_result"
    }
   ],
   "source": [
    "cor"
   ]
  },
  {
   "cell_type": "code",
   "execution_count": 10,
   "id": "77e225b7",
   "metadata": {},
   "outputs": [
    {
     "data": {
      "image/png": "[encoded data removed]",
      "text/plain": [
       "<Figure size 1440x720 with 2 Axes>"
      ]
     },
     "metadata": {
      "needs_background": "light"
     },
     "output_type": "display_data"
    }
   ],
   "source": [
    "m = bitcoin_df.corr()\n",
    "plt.figure(figsize=(20, 10))\n",
    "ax = plt.subplot()\n",
    "sns.heatmap(m, annot = True, ax = ax);"
   ]
  },
  {
   "cell_type": "code",
   "execution_count": 11,
   "id": "e1bdcdad",
   "metadata": {},
   "outputs": [],
   "source": [
    "x = bitcoin_df.drop(columns = [\"Adj Close\",\"Timestamp\"])\n",
    "y = bitcoin_df['Adj Close']"
   ]
  },
  {
   "cell_type": "code",
   "execution_count": 12,
   "id": "0803f335",
   "metadata": {},
   "outputs": [],
   "source": [
    "x_train, x_test, y_train, y_test = train_test_split(x, y, test_size=0.25, random_state=0)"
   ]
  },
  {
   "cell_type": "code",
   "execution_count": 13,
   "id": "0ed85f18",
   "metadata": {},
   "outputs": [
    {
     "data": {
      "text/plain": [
       "(393, 7)"
      ]
     },
     "execution_count": 13,
     "metadata": {},
     "output_type": "execute_result"
    }
   ],
   "source": [
    "x_train.shape"
   ]
  },
  {
   "cell_type": "code",
   "execution_count": 14,
   "id": "1ecf8d32",
   "metadata": {},
   "outputs": [
    {
     "data": {
      "text/plain": [
       "(132, 7)"
      ]
     },
     "execution_count": 14,
     "metadata": {},
     "output_type": "execute_result"
    }
   ],
   "source": [
    "x_test.shape"
   ]
  },
  {
   "cell_type": "code",
   "execution_count": 15,
   "id": "06fbfd41",
   "metadata": {},
   "outputs": [],
   "source": [
    "regressor = LinearRegression()"
   ]
  },
  {
   "cell_type": "code",
   "execution_count": 16,
   "id": "0eb58687",
   "metadata": {},
   "outputs": [
    {
     "data": {
      "text/html": [
       "<style>#sk-container-id-1 {color: black;background-color: white;}#sk-container-id-1 pre{padding: 0;}#sk-container-id-1 div.sk-toggleable {background-color: white;}#sk-container-id-1 label.sk-toggleable__label {cursor: pointer;display: block;width: 100%;margin-bottom: 0;padding: 0.3em;box-sizing: border-box;text-align: center;}#sk-container-id-1 label.sk-toggleable__label-arrow:before {content: \"▸\";float: left;margin-right: 0.25em;color: #696969;}#sk-container-id-1 label.sk-toggleable__label-arrow:hover:before {color: black;}#sk-container-id-1 div.sk-estimator:hover label.sk-toggleable__label-arrow:before {color: black;}#sk-container-id-1 div.sk-toggleable__content {max-height: 0;max-width: 0;overflow: hidden;text-align: left;background-color: #f0f8ff;}#sk-container-id-1 div.sk-toggleable__content pre {margin: 0.2em;color: black;border-radius: 0.25em;background-color: #f0f8ff;}#sk-container-id-1 input.sk-toggleable__control:checked~div.sk-toggleable__content {max-height: 200px;max-width: 100%;overflow: auto;}#sk-container-id-1 input.sk-toggleable__control:checked~label.sk-toggleable__label-arrow:before {content: \"▾\";}#sk-container-id-1 div.sk-estimator input.sk-toggleable__control:checked~label.sk-toggleable__label {background-color: #d4ebff;}#sk-container-id-1 div.sk-label input.sk-toggleable__control:checked~label.sk-toggleable__label {background-color: #d4ebff;}#sk-container-id-1 input.sk-hidden--visually {border: 0;clip: rect(1px 1px 1px 1px);clip: rect(1px, 1px, 1px, 1px);height: 1px;margin: -1px;overflow: hidden;padding: 0;position: absolute;width: 1px;}#sk-container-id-1 div.sk-estimator {font-family: monospace;background-color: #f0f8ff;border: 1px dotted black;border-radius: 0.25em;box-sizing: border-box;margin-bottom: 0.5em;}#sk-container-id-1 div.sk-estimator:hover {background-color: #d4ebff;}#sk-container-id-1 div.sk-parallel-item::after {content: \"\";width: 100%;border-bottom: 1px solid gray;flex-grow: 1;}#sk-container-id-1 div.sk-label:hover label.sk-toggleable__label {background-color: #d4ebff;}#sk-container-id-1 div.sk-serial::before {content: \"\";position: absolute;border-left: 1px solid gray;box-sizing: border-box;top: 0;bottom: 0;left: 50%;z-index: 0;}#sk-container-id-1 div.sk-serial {display: flex;flex-direction: column;align-items: center;background-color: white;padding-right: 0.2em;padding-left: 0.2em;position: relative;}#sk-container-id-1 div.sk-item {position: relative;z-index: 1;}#sk-container-id-1 div.sk-parallel {display: flex;align-items: stretch;justify-content: center;background-color: white;position: relative;}#sk-container-id-1 div.sk-item::before, #sk-container-id-1 div.sk-parallel-item::before {content: \"\";position: absolute;border-left: 1px solid gray;box-sizing: border-box;top: 0;bottom: 0;left: 50%;z-index: -1;}#sk-container-id-1 div.sk-parallel-item {display: flex;flex-direction: column;z-index: 1;position: relative;background-color: white;}#sk-container-id-1 div.sk-parallel-item:first-child::after {align-self: flex-end;width: 50%;}#sk-container-id-1 div.sk-parallel-item:last-child::after {align-self: flex-start;width: 50%;}#sk-container-id-1 div.sk-parallel-item:only-child::after {width: 0;}#sk-container-id-1 div.sk-dashed-wrapped {border: 1px dashed gray;margin: 0 0.4em 0.5em 0.4em;box-sizing: border-box;padding-bottom: 0.4em;background-color: white;}#sk-container-id-1 div.sk-label label {font-family: monospace;font-weight: bold;display: inline-block;line-height: 1.2em;}#sk-container-id-1 div.sk-label-container {text-align: center;}#sk-container-id-1 div.sk-container {/* jupyter's `normalize.less` sets `[hidden] { display: none; }` but bootstrap.min.css set `[hidden] { display: none !important; }` so we also need the `!important` here to be able to override the default hidden behavior on the sphinx rendered scikit-learn.org. See: https://github.com/scikit-learn/scikit-learn/issues/21755 */display: inline-block !important;position: relative;}#sk-container-id-1 div.sk-text-repr-fallback {display: none;}</style><div id=\"sk-container-id-1\" class=\"sk-top-container\"><div class=\"sk-text-repr-fallback\"><pre>LinearRegression()</pre><b>In a Jupyter environment, please rerun this cell to show the HTML representation or trust the notebook. <br />On GitHub, the HTML representation is unable to render, please try loading this page with nbviewer.org.</b></div><div class=\"sk-container\" hidden><div class=\"sk-item\"><div class=\"sk-estimator sk-toggleable\"><input class=\"sk-toggleable__control sk-hidden--visually\" id=\"sk-estimator-id-1\" type=\"checkbox\" checked><label for=\"sk-estimator-id-1\" class=\"sk-toggleable__label sk-toggleable__label-arrow\">LinearRegression</label><div class=\"sk-toggleable__content\"><pre>LinearRegression()</pre></div></div></div></div></div>"
      ],
      "text/plain": [
       "LinearRegression()"
      ]
     },
     "execution_count": 16,
     "metadata": {},
     "output_type": "execute_result"
    }
   ],
   "source": [
    "regressor.fit(x_train, y_train)"
   ]
  },
  {
   "cell_type": "code",
   "execution_count": 17,
   "id": "f663b224",
   "metadata": {},
   "outputs": [
    {
     "name": "stdout",
     "output_type": "stream",
     "text": [
      "[ 2.28068764e+02 -1.06348980e+01  7.50890997e-01  3.71300286e-05\n",
      "  1.75082891e-08  4.13145074e-11  1.20997183e+00]\n"
     ]
    }
   ],
   "source": [
    "print(regressor.coef_)"
   ]
  },
  {
   "cell_type": "code",
   "execution_count": 19,
   "id": "a1da17df",
   "metadata": {},
   "outputs": [
    {
     "data": {
      "text/html": [
       "<div>\n",
       "<style scoped>\n",
       "    .dataframe tbody tr th:only-of-type {\n",
       "        vertical-align: middle;\n",
       "    }\n",
       "\n",
       "    .dataframe tbody tr th {\n",
       "        vertical-align: top;\n",
       "    }\n",
       "\n",
       "    .dataframe thead th {\n",
       "        text-align: right;\n",
       "    }\n",
       "</style>\n",
       "<table border=\"1\" class=\"dataframe\">\n",
       "  <thead>\n",
       "    <tr style=\"text-align: right;\">\n",
       "      <th></th>\n",
       "      <th>Coefficient</th>\n",
       "    </tr>\n",
       "  </thead>\n",
       "  <tbody>\n",
       "    <tr>\n",
       "      <th>avg-block-size</th>\n",
       "      <td>2.280688e+02</td>\n",
       "    </tr>\n",
       "    <tr>\n",
       "      <th>fees-usd-per-transaction</th>\n",
       "      <td>-1.063490e+01</td>\n",
       "    </tr>\n",
       "    <tr>\n",
       "      <th>market-price</th>\n",
       "      <td>7.508910e-01</td>\n",
       "    </tr>\n",
       "    <tr>\n",
       "      <th>miners-revenue</th>\n",
       "      <td>3.713003e-05</td>\n",
       "    </tr>\n",
       "    <tr>\n",
       "      <th>trade-volume</th>\n",
       "      <td>1.750829e-08</td>\n",
       "    </tr>\n",
       "    <tr>\n",
       "      <th>difficulty</th>\n",
       "      <td>4.131451e-11</td>\n",
       "    </tr>\n",
       "    <tr>\n",
       "      <th>GLDPrice</th>\n",
       "      <td>1.209972e+00</td>\n",
       "    </tr>\n",
       "  </tbody>\n",
       "</table>\n",
       "</div>"
      ],
      "text/plain": [
       "                           Coefficient\n",
       "avg-block-size            2.280688e+02\n",
       "fees-usd-per-transaction -1.063490e+01\n",
       "market-price              7.508910e-01\n",
       "miners-revenue            3.713003e-05\n",
       "trade-volume              1.750829e-08\n",
       "difficulty                4.131451e-11\n",
       "GLDPrice                  1.209972e+00"
      ]
     },
     "execution_count": 19,
     "metadata": {},
     "output_type": "execute_result"
    }
   ],
   "source": [
    "coeff_df = pd.DataFrame(regressor.coef_, x.columns, columns=['Coefficient'])\n",
    "coeff_df"
   ]
  },
  {
   "cell_type": "code",
   "execution_count": 20,
   "id": "862e59c6",
   "metadata": {},
   "outputs": [
    {
     "name": "stdout",
     "output_type": "stream",
     "text": [
      "-154.25557754913916\n"
     ]
    }
   ],
   "source": [
    "print(regressor.intercept_)"
   ]
  },
  {
   "cell_type": "code",
   "execution_count": 21,
   "id": "b09d62cd",
   "metadata": {},
   "outputs": [],
   "source": [
    "predicted = regressor.predict(x_test)"
   ]
  },
  {
   "cell_type": "code",
   "execution_count": 22,
   "id": "a20745d7",
   "metadata": {
    "scrolled": false
   },
   "outputs": [
    {
     "name": "stdout",
     "output_type": "stream",
     "text": [
      "     avg-block-size  fees-usd-per-transaction  market-price  miners-revenue  \\\n",
      "208        0.991798                  0.916311       1192.09    2.451454e+06   \n",
      "15         0.360704                  0.056304        356.47    1.445702e+06   \n",
      "229        0.983088                  3.381665       2477.94    5.412747e+06   \n",
      "298        0.825766                  1.253421       7941.46    1.446751e+07   \n",
      "451        1.199867                  0.921670       9854.79    1.567155e+07   \n",
      "..              ...                       ...           ...             ...   \n",
      "100        0.643186                  0.065575        361.47    1.519900e+06   \n",
      "492        1.264695                  3.453464      11774.38    1.370996e+07   \n",
      "210        0.982004                  0.935818       1113.00    2.221576e+06   \n",
      "282        1.102733                  6.056735       6925.46    1.916522e+07   \n",
      "56         0.412173                  0.034824        238.80    9.085971e+05   \n",
      "\n",
      "     trade-volume    difficulty  GLDPrice  \n",
      "208  9.159400e+06  4.610000e+11     17.62  \n",
      "15   5.841267e+06  3.960367e+10     12.76  \n",
      "229  3.420878e+07  6.790000e+11     15.60  \n",
      "298  1.477856e+09  3.510000e+12     12.81  \n",
      "451  1.554243e+08  1.550000e+13     18.33  \n",
      "..            ...           ...       ...  \n",
      "100  4.409146e+06  7.272278e+10      7.53  \n",
      "492  1.314498e+08  1.690000e+13     26.84  \n",
      "210  1.236563e+07  4.760000e+11     19.34  \n",
      "282  2.089573e+09  2.600000e+12     13.55  \n",
      "56   2.491546e+06  4.880749e+10     12.22  \n",
      "\n",
      "[132 rows x 7 columns]\n"
     ]
    }
   ],
   "source": [
    "print(x_test)"
   ]
  },
  {
   "cell_type": "code",
   "execution_count": 23,
   "id": "f5c8bf02",
   "metadata": {},
   "outputs": [
    {
     "data": {
      "text/html": [
       "<div>\n",
       "<style scoped>\n",
       "    .dataframe tbody tr th:only-of-type {\n",
       "        vertical-align: middle;\n",
       "    }\n",
       "\n",
       "    .dataframe tbody tr th {\n",
       "        vertical-align: top;\n",
       "    }\n",
       "\n",
       "    .dataframe thead th {\n",
       "        text-align: right;\n",
       "    }\n",
       "</style>\n",
       "<table border=\"1\" class=\"dataframe\">\n",
       "  <thead>\n",
       "    <tr style=\"text-align: right;\">\n",
       "      <th></th>\n",
       "      <th>Actual</th>\n",
       "      <th>Predicted</th>\n",
       "    </tr>\n",
       "  </thead>\n",
       "  <tbody>\n",
       "    <tr>\n",
       "      <th>208</th>\n",
       "      <td>1123.442627</td>\n",
       "      <td>1088.876007</td>\n",
       "    </tr>\n",
       "    <tr>\n",
       "      <th>15</th>\n",
       "      <td>285.313354</td>\n",
       "      <td>265.937834</td>\n",
       "    </tr>\n",
       "    <tr>\n",
       "      <th>229</th>\n",
       "      <td>2249.718750</td>\n",
       "      <td>2143.157789</td>\n",
       "    </tr>\n",
       "    <tr>\n",
       "      <th>298</th>\n",
       "      <td>6398.937500</td>\n",
       "      <td>6707.484383</td>\n",
       "    </tr>\n",
       "    <tr>\n",
       "      <th>451</th>\n",
       "      <td>9034.057617</td>\n",
       "      <td>8756.627673</td>\n",
       "    </tr>\n",
       "    <tr>\n",
       "      <th>...</th>\n",
       "      <td>...</td>\n",
       "      <td>...</td>\n",
       "    </tr>\n",
       "    <tr>\n",
       "      <th>100</th>\n",
       "      <td>330.749359</td>\n",
       "      <td>331.788928</td>\n",
       "    </tr>\n",
       "    <tr>\n",
       "      <th>492</th>\n",
       "      <td>9937.870117</td>\n",
       "      <td>10180.774006</td>\n",
       "    </tr>\n",
       "    <tr>\n",
       "      <th>210</th>\n",
       "      <td>1036.385498</td>\n",
       "      <td>1021.268397</td>\n",
       "    </tr>\n",
       "    <tr>\n",
       "      <th>282</th>\n",
       "      <td>5624.965820</td>\n",
       "      <td>6105.098967</td>\n",
       "    </tr>\n",
       "    <tr>\n",
       "      <th>56</th>\n",
       "      <td>218.200638</td>\n",
       "      <td>169.272829</td>\n",
       "    </tr>\n",
       "  </tbody>\n",
       "</table>\n",
       "<p>132 rows × 2 columns</p>\n",
       "</div>"
      ],
      "text/plain": [
       "          Actual     Predicted\n",
       "208  1123.442627   1088.876007\n",
       "15    285.313354    265.937834\n",
       "229  2249.718750   2143.157789\n",
       "298  6398.937500   6707.484383\n",
       "451  9034.057617   8756.627673\n",
       "..           ...           ...\n",
       "100   330.749359    331.788928\n",
       "492  9937.870117  10180.774006\n",
       "210  1036.385498   1021.268397\n",
       "282  5624.965820   6105.098967\n",
       "56    218.200638    169.272829\n",
       "\n",
       "[132 rows x 2 columns]"
      ]
     },
     "execution_count": 23,
     "metadata": {},
     "output_type": "execute_result"
    }
   ],
   "source": [
    "df = pd.DataFrame({'Actual': y_test, 'Predicted': predicted})\n",
    "df"
   ]
  },
  {
   "cell_type": "code",
   "execution_count": 61,
   "id": "e90b9a06",
   "metadata": {},
   "outputs": [],
   "source": [
    "df0 = df.sort_index(ascending = True)"
   ]
  },
  {
   "cell_type": "code",
   "execution_count": 69,
   "id": "1f156878",
   "metadata": {},
   "outputs": [
    {
     "data": {
      "text/html": [
       "<div>\n",
       "<style scoped>\n",
       "    .dataframe tbody tr th:only-of-type {\n",
       "        vertical-align: middle;\n",
       "    }\n",
       "\n",
       "    .dataframe tbody tr th {\n",
       "        vertical-align: top;\n",
       "    }\n",
       "\n",
       "    .dataframe thead th {\n",
       "        text-align: right;\n",
       "    }\n",
       "</style>\n",
       "<table border=\"1\" class=\"dataframe\">\n",
       "  <thead>\n",
       "    <tr style=\"text-align: right;\">\n",
       "      <th></th>\n",
       "      <th>Actual</th>\n",
       "      <th>Predicted</th>\n",
       "    </tr>\n",
       "  </thead>\n",
       "  <tbody>\n",
       "    <tr>\n",
       "      <th>1</th>\n",
       "      <td>331.250000</td>\n",
       "      <td>320.930106</td>\n",
       "    </tr>\n",
       "    <tr>\n",
       "      <th>7</th>\n",
       "      <td>304.023773</td>\n",
       "      <td>294.620187</td>\n",
       "    </tr>\n",
       "    <tr>\n",
       "      <th>10</th>\n",
       "      <td>273.877686</td>\n",
       "      <td>249.546238</td>\n",
       "    </tr>\n",
       "    <tr>\n",
       "      <th>12</th>\n",
       "      <td>294.792755</td>\n",
       "      <td>274.944370</td>\n",
       "    </tr>\n",
       "    <tr>\n",
       "      <th>15</th>\n",
       "      <td>285.313354</td>\n",
       "      <td>265.937834</td>\n",
       "    </tr>\n",
       "    <tr>\n",
       "      <th>...</th>\n",
       "      <td>...</td>\n",
       "      <td>...</td>\n",
       "    </tr>\n",
       "    <tr>\n",
       "      <th>512</th>\n",
       "      <td>12967.122070</td>\n",
       "      <td>13080.927532</td>\n",
       "    </tr>\n",
       "    <tr>\n",
       "      <th>517</th>\n",
       "      <td>16440.384770</td>\n",
       "      <td>16199.424909</td>\n",
       "    </tr>\n",
       "    <tr>\n",
       "      <th>522</th>\n",
       "      <td>18637.574220</td>\n",
       "      <td>18781.890939</td>\n",
       "    </tr>\n",
       "    <tr>\n",
       "      <th>523</th>\n",
       "      <td>19481.566410</td>\n",
       "      <td>19422.135364</td>\n",
       "    </tr>\n",
       "    <tr>\n",
       "      <th>524</th>\n",
       "      <td>23450.607420</td>\n",
       "      <td>23776.074675</td>\n",
       "    </tr>\n",
       "  </tbody>\n",
       "</table>\n",
       "<p>132 rows × 2 columns</p>\n",
       "</div>"
      ],
      "text/plain": [
       "           Actual     Predicted\n",
       "1      331.250000    320.930106\n",
       "7      304.023773    294.620187\n",
       "10     273.877686    249.546238\n",
       "12     294.792755    274.944370\n",
       "15     285.313354    265.937834\n",
       "..            ...           ...\n",
       "512  12967.122070  13080.927532\n",
       "517  16440.384770  16199.424909\n",
       "522  18637.574220  18781.890939\n",
       "523  19481.566410  19422.135364\n",
       "524  23450.607420  23776.074675\n",
       "\n",
       "[132 rows x 2 columns]"
      ]
     },
     "execution_count": 69,
     "metadata": {},
     "output_type": "execute_result"
    }
   ],
   "source": [
    "df0"
   ]
  },
  {
   "cell_type": "code",
   "execution_count": 67,
   "id": "78633aa3",
   "metadata": {
    "scrolled": true
   },
   "outputs": [
    {
     "data": {
      "image/png": "[encoded data removed]",
      "text/plain": [
       "<Figure size 936x360 with 1 Axes>"
      ]
     },
     "metadata": {
      "needs_background": "light"
     },
     "output_type": "display_data"
    }
   ],
   "source": [
    "plt.figure(figsize = (13, 5))\n",
    "plt.plot(df0, linewidth = 1)\n",
    "plt.title(\"actual vs predicted price\")\n",
    "plt.xlabel('Predicted')\n",
    "plt.ylabel('Adj Close')\n",
    "plt.legend(\"squares\")\n",
    "plt.grid()"
   ]
  },
  {
   "cell_type": "code",
   "execution_count": 73,
   "id": "d1c14a7c",
   "metadata": {},
   "outputs": [
    {
     "name": "stdout",
     "output_type": "stream",
     "text": [
      "Mean Absolute Error: 102.6643488558406\n",
      "Mean Squared Error: 21984.819245147024\n",
      "Root Mean Squared Error: 148.27278659668815\n"
     ]
    }
   ],
   "source": [
    "print('Mean Absolute Error:', metrics.mean_absolute_error(y_test, predicted))\n",
    "print('Mean Squared Error:', metrics.mean_squared_error(y_test,predicted))\n",
    "print('Root Mean Squared Error:', np.sqrt(metrics.mean_squared_error(y_test, predicted)))"
   ]
  },
  {
   "cell_type": "code",
   "execution_count": 75,
   "id": "ef2113fd",
   "metadata": {},
   "outputs": [
    {
     "data": {
      "text/plain": [
       "0.9989622496146447"
      ]
     },
     "execution_count": 75,
     "metadata": {},
     "output_type": "execute_result"
    }
   ],
   "source": [
    "r2_score(y_test, predicted)"
   ]
  },
  {
   "cell_type": "markdown",
   "id": "cf13a015",
   "metadata": {},
   "source": [
    "# OLD MODEL #"
   ]
  },
  {
   "cell_type": "code",
   "execution_count": 76,
   "id": "5f8f1029",
   "metadata": {},
   "outputs": [],
   "source": [
    "btc_df = pd.read_csv('BTC-EURyaahoo.csv')"
   ]
  },
  {
   "cell_type": "code",
   "execution_count": 78,
   "id": "02523d92",
   "metadata": {},
   "outputs": [
    {
     "data": {
      "text/html": [
       "<div>\n",
       "<style scoped>\n",
       "    .dataframe tbody tr th:only-of-type {\n",
       "        vertical-align: middle;\n",
       "    }\n",
       "\n",
       "    .dataframe tbody tr th {\n",
       "        vertical-align: top;\n",
       "    }\n",
       "\n",
       "    .dataframe thead th {\n",
       "        text-align: right;\n",
       "    }\n",
       "</style>\n",
       "<table border=\"1\" class=\"dataframe\">\n",
       "  <thead>\n",
       "    <tr style=\"text-align: right;\">\n",
       "      <th></th>\n",
       "      <th>Date</th>\n",
       "      <th>Open</th>\n",
       "      <th>Close</th>\n",
       "      <th>Adj Close</th>\n",
       "    </tr>\n",
       "  </thead>\n",
       "  <tbody>\n",
       "    <tr>\n",
       "      <th>0</th>\n",
       "      <td>17-09-2014</td>\n",
       "      <td>359.546204</td>\n",
       "      <td>355.957367</td>\n",
       "      <td>355.957367</td>\n",
       "    </tr>\n",
       "    <tr>\n",
       "      <th>1</th>\n",
       "      <td>18-09-2014</td>\n",
       "      <td>355.588409</td>\n",
       "      <td>328.539368</td>\n",
       "      <td>328.539368</td>\n",
       "    </tr>\n",
       "    <tr>\n",
       "      <th>2</th>\n",
       "      <td>19-09-2014</td>\n",
       "      <td>328.278503</td>\n",
       "      <td>307.761139</td>\n",
       "      <td>307.761139</td>\n",
       "    </tr>\n",
       "    <tr>\n",
       "      <th>3</th>\n",
       "      <td>20-09-2014</td>\n",
       "      <td>307.665253</td>\n",
       "      <td>318.758972</td>\n",
       "      <td>318.758972</td>\n",
       "    </tr>\n",
       "    <tr>\n",
       "      <th>4</th>\n",
       "      <td>21-09-2014</td>\n",
       "      <td>318.120514</td>\n",
       "      <td>310.632446</td>\n",
       "      <td>310.632446</td>\n",
       "    </tr>\n",
       "  </tbody>\n",
       "</table>\n",
       "</div>"
      ],
      "text/plain": [
       "         Date        Open       Close   Adj Close\n",
       "0  17-09-2014  359.546204  355.957367  355.957367\n",
       "1  18-09-2014  355.588409  328.539368  328.539368\n",
       "2  19-09-2014  328.278503  307.761139  307.761139\n",
       "3  20-09-2014  307.665253  318.758972  318.758972\n",
       "4  21-09-2014  318.120514  310.632446  310.632446"
      ]
     },
     "execution_count": 78,
     "metadata": {},
     "output_type": "execute_result"
    }
   ],
   "source": [
    "btc_df.head()"
   ]
  },
  {
   "cell_type": "code",
   "execution_count": 106,
   "id": "f3df80fe",
   "metadata": {},
   "outputs": [
    {
     "data": {
      "text/plain": [
       "Date         0\n",
       "Open         0\n",
       "Close        0\n",
       "Adj Close    0\n",
       "dtype: int64"
      ]
     },
     "execution_count": 106,
     "metadata": {},
     "output_type": "execute_result"
    }
   ],
   "source": [
    "btc_df.isnull().sum()"
   ]
  },
  {
   "cell_type": "code",
   "execution_count": 102,
   "id": "fdd58019",
   "metadata": {},
   "outputs": [],
   "source": [
    "btc_df.dropna(inplace = True)"
   ]
  },
  {
   "cell_type": "code",
   "execution_count": 107,
   "id": "fbc497ea",
   "metadata": {},
   "outputs": [],
   "source": [
    "cor1 = btc_df.corr()"
   ]
  },
  {
   "cell_type": "code",
   "execution_count": 108,
   "id": "f3f1023f",
   "metadata": {},
   "outputs": [
    {
     "data": {
      "text/html": [
       "<div>\n",
       "<style scoped>\n",
       "    .dataframe tbody tr th:only-of-type {\n",
       "        vertical-align: middle;\n",
       "    }\n",
       "\n",
       "    .dataframe tbody tr th {\n",
       "        vertical-align: top;\n",
       "    }\n",
       "\n",
       "    .dataframe thead th {\n",
       "        text-align: right;\n",
       "    }\n",
       "</style>\n",
       "<table border=\"1\" class=\"dataframe\">\n",
       "  <thead>\n",
       "    <tr style=\"text-align: right;\">\n",
       "      <th></th>\n",
       "      <th>Open</th>\n",
       "      <th>Close</th>\n",
       "      <th>Adj Close</th>\n",
       "    </tr>\n",
       "  </thead>\n",
       "  <tbody>\n",
       "    <tr>\n",
       "      <th>Open</th>\n",
       "      <td>1.00000</td>\n",
       "      <td>0.99803</td>\n",
       "      <td>0.99803</td>\n",
       "    </tr>\n",
       "    <tr>\n",
       "      <th>Close</th>\n",
       "      <td>0.99803</td>\n",
       "      <td>1.00000</td>\n",
       "      <td>1.00000</td>\n",
       "    </tr>\n",
       "    <tr>\n",
       "      <th>Adj Close</th>\n",
       "      <td>0.99803</td>\n",
       "      <td>1.00000</td>\n",
       "      <td>1.00000</td>\n",
       "    </tr>\n",
       "  </tbody>\n",
       "</table>\n",
       "</div>"
      ],
      "text/plain": [
       "              Open    Close  Adj Close\n",
       "Open       1.00000  0.99803    0.99803\n",
       "Close      0.99803  1.00000    1.00000\n",
       "Adj Close  0.99803  1.00000    1.00000"
      ]
     },
     "execution_count": 108,
     "metadata": {},
     "output_type": "execute_result"
    }
   ],
   "source": [
    "cor1"
   ]
  },
  {
   "cell_type": "code",
   "execution_count": 109,
   "id": "8eeb045f",
   "metadata": {},
   "outputs": [
    {
     "data": {
      "image/png": "[encoded data removed]",
      "text/plain": [
       "<Figure size 360x360 with 2 Axes>"
      ]
     },
     "metadata": {
      "needs_background": "light"
     },
     "output_type": "display_data"
    }
   ],
   "source": [
    "m1 = btc_df.corr()\n",
    "plt.figure(figsize=(5, 5))\n",
    "ax = plt.subplot()\n",
    "sns.heatmap(m1, annot = True, ax = ax);"
   ]
  },
  {
   "cell_type": "code",
   "execution_count": 110,
   "id": "8840161a",
   "metadata": {},
   "outputs": [],
   "source": [
    "x1 = btc_df.drop(columns = [\"Adj Close\", \"Date\"])\n",
    "y1 = btc_df['Adj Close']"
   ]
  },
  {
   "cell_type": "code",
   "execution_count": 111,
   "id": "b937c7fd",
   "metadata": {},
   "outputs": [],
   "source": [
    "x1_train, x1_test, y1_train, y1_test = train_test_split(x1, y1, test_size=0.25, random_state=0)"
   ]
  },
  {
   "cell_type": "code",
   "execution_count": 112,
   "id": "a8bf7c14",
   "metadata": {},
   "outputs": [
    {
     "data": {
      "text/plain": [
       "(1725, 2)"
      ]
     },
     "execution_count": 112,
     "metadata": {},
     "output_type": "execute_result"
    }
   ],
   "source": [
    "x1_train.shape"
   ]
  },
  {
   "cell_type": "code",
   "execution_count": 113,
   "id": "d765a853",
   "metadata": {},
   "outputs": [
    {
     "data": {
      "text/plain": [
       "(576, 2)"
      ]
     },
     "execution_count": 113,
     "metadata": {},
     "output_type": "execute_result"
    }
   ],
   "source": [
    "x1_test.shape"
   ]
  },
  {
   "cell_type": "code",
   "execution_count": 114,
   "id": "e839fc36",
   "metadata": {},
   "outputs": [],
   "source": [
    "regressor1 = LinearRegression()"
   ]
  },
  {
   "cell_type": "code",
   "execution_count": 115,
   "id": "075515a5",
   "metadata": {
    "scrolled": true
   },
   "outputs": [
    {
     "data": {
      "text/html": [
       "<style>#sk-container-id-2 {color: black;background-color: white;}#sk-container-id-2 pre{padding: 0;}#sk-container-id-2 div.sk-toggleable {background-color: white;}#sk-container-id-2 label.sk-toggleable__label {cursor: pointer;display: block;width: 100%;margin-bottom: 0;padding: 0.3em;box-sizing: border-box;text-align: center;}#sk-container-id-2 label.sk-toggleable__label-arrow:before {content: \"▸\";float: left;margin-right: 0.25em;color: #696969;}#sk-container-id-2 label.sk-toggleable__label-arrow:hover:before {color: black;}#sk-container-id-2 div.sk-estimator:hover label.sk-toggleable__label-arrow:before {color: black;}#sk-container-id-2 div.sk-toggleable__content {max-height: 0;max-width: 0;overflow: hidden;text-align: left;background-color: #f0f8ff;}#sk-container-id-2 div.sk-toggleable__content pre {margin: 0.2em;color: black;border-radius: 0.25em;background-color: #f0f8ff;}#sk-container-id-2 input.sk-toggleable__control:checked~div.sk-toggleable__content {max-height: 200px;max-width: 100%;overflow: auto;}#sk-container-id-2 input.sk-toggleable__control:checked~label.sk-toggleable__label-arrow:before {content: \"▾\";}#sk-container-id-2 div.sk-estimator input.sk-toggleable__control:checked~label.sk-toggleable__label {background-color: #d4ebff;}#sk-container-id-2 div.sk-label input.sk-toggleable__control:checked~label.sk-toggleable__label {background-color: #d4ebff;}#sk-container-id-2 input.sk-hidden--visually {border: 0;clip: rect(1px 1px 1px 1px);clip: rect(1px, 1px, 1px, 1px);height: 1px;margin: -1px;overflow: hidden;padding: 0;position: absolute;width: 1px;}#sk-container-id-2 div.sk-estimator {font-family: monospace;background-color: #f0f8ff;border: 1px dotted black;border-radius: 0.25em;box-sizing: border-box;margin-bottom: 0.5em;}#sk-container-id-2 div.sk-estimator:hover {background-color: #d4ebff;}#sk-container-id-2 div.sk-parallel-item::after {content: \"\";width: 100%;border-bottom: 1px solid gray;flex-grow: 1;}#sk-container-id-2 div.sk-label:hover label.sk-toggleable__label {background-color: #d4ebff;}#sk-container-id-2 div.sk-serial::before {content: \"\";position: absolute;border-left: 1px solid gray;box-sizing: border-box;top: 0;bottom: 0;left: 50%;z-index: 0;}#sk-container-id-2 div.sk-serial {display: flex;flex-direction: column;align-items: center;background-color: white;padding-right: 0.2em;padding-left: 0.2em;position: relative;}#sk-container-id-2 div.sk-item {position: relative;z-index: 1;}#sk-container-id-2 div.sk-parallel {display: flex;align-items: stretch;justify-content: center;background-color: white;position: relative;}#sk-container-id-2 div.sk-item::before, #sk-container-id-2 div.sk-parallel-item::before {content: \"\";position: absolute;border-left: 1px solid gray;box-sizing: border-box;top: 0;bottom: 0;left: 50%;z-index: -1;}#sk-container-id-2 div.sk-parallel-item {display: flex;flex-direction: column;z-index: 1;position: relative;background-color: white;}#sk-container-id-2 div.sk-parallel-item:first-child::after {align-self: flex-end;width: 50%;}#sk-container-id-2 div.sk-parallel-item:last-child::after {align-self: flex-start;width: 50%;}#sk-container-id-2 div.sk-parallel-item:only-child::after {width: 0;}#sk-container-id-2 div.sk-dashed-wrapped {border: 1px dashed gray;margin: 0 0.4em 0.5em 0.4em;box-sizing: border-box;padding-bottom: 0.4em;background-color: white;}#sk-container-id-2 div.sk-label label {font-family: monospace;font-weight: bold;display: inline-block;line-height: 1.2em;}#sk-container-id-2 div.sk-label-container {text-align: center;}#sk-container-id-2 div.sk-container {/* jupyter's `normalize.less` sets `[hidden] { display: none; }` but bootstrap.min.css set `[hidden] { display: none !important; }` so we also need the `!important` here to be able to override the default hidden behavior on the sphinx rendered scikit-learn.org. See: https://github.com/scikit-learn/scikit-learn/issues/21755 */display: inline-block !important;position: relative;}#sk-container-id-2 div.sk-text-repr-fallback {display: none;}</style><div id=\"sk-container-id-2\" class=\"sk-top-container\"><div class=\"sk-text-repr-fallback\"><pre>LinearRegression()</pre><b>In a Jupyter environment, please rerun this cell to show the HTML representation or trust the notebook. <br />On GitHub, the HTML representation is unable to render, please try loading this page with nbviewer.org.</b></div><div class=\"sk-container\" hidden><div class=\"sk-item\"><div class=\"sk-estimator sk-toggleable\"><input class=\"sk-toggleable__control sk-hidden--visually\" id=\"sk-estimator-id-2\" type=\"checkbox\" checked><label for=\"sk-estimator-id-2\" class=\"sk-toggleable__label sk-toggleable__label-arrow\">LinearRegression</label><div class=\"sk-toggleable__content\"><pre>LinearRegression()</pre></div></div></div></div></div>"
      ],
      "text/plain": [
       "LinearRegression()"
      ]
     },
     "execution_count": 115,
     "metadata": {},
     "output_type": "execute_result"
    }
   ],
   "source": [
    "regressor1.fit(x1_train, y1_train)"
   ]
  },
  {
   "cell_type": "code",
   "execution_count": 116,
   "id": "8c3073bc",
   "metadata": {},
   "outputs": [
    {
     "name": "stdout",
     "output_type": "stream",
     "text": [
      "[8.96867695e-16 1.00000000e+00]\n"
     ]
    }
   ],
   "source": [
    "print(regressor1.coef_)"
   ]
  },
  {
   "cell_type": "code",
   "execution_count": 122,
   "id": "aec4af27",
   "metadata": {},
   "outputs": [
    {
     "data": {
      "text/html": [
       "<div>\n",
       "<style scoped>\n",
       "    .dataframe tbody tr th:only-of-type {\n",
       "        vertical-align: middle;\n",
       "    }\n",
       "\n",
       "    .dataframe tbody tr th {\n",
       "        vertical-align: top;\n",
       "    }\n",
       "\n",
       "    .dataframe thead th {\n",
       "        text-align: right;\n",
       "    }\n",
       "</style>\n",
       "<table border=\"1\" class=\"dataframe\">\n",
       "  <thead>\n",
       "    <tr style=\"text-align: right;\">\n",
       "      <th></th>\n",
       "      <th>Coefficient</th>\n",
       "    </tr>\n",
       "  </thead>\n",
       "  <tbody>\n",
       "    <tr>\n",
       "      <th>Open</th>\n",
       "      <td>8.968677e-16</td>\n",
       "    </tr>\n",
       "    <tr>\n",
       "      <th>Close</th>\n",
       "      <td>1.000000e+00</td>\n",
       "    </tr>\n",
       "  </tbody>\n",
       "</table>\n",
       "</div>"
      ],
      "text/plain": [
       "        Coefficient\n",
       "Open   8.968677e-16\n",
       "Close  1.000000e+00"
      ]
     },
     "execution_count": 122,
     "metadata": {},
     "output_type": "execute_result"
    }
   ],
   "source": [
    "coeff_df1 = pd.DataFrame(regressor1.coef_, x1.columns, columns=['Coefficient'])\n",
    "coeff_df1"
   ]
  },
  {
   "cell_type": "code",
   "execution_count": 123,
   "id": "fcca8817",
   "metadata": {},
   "outputs": [],
   "source": [
    "predicted1 = regressor1.predict(x1_test)"
   ]
  },
  {
   "cell_type": "code",
   "execution_count": 124,
   "id": "b813ea81",
   "metadata": {},
   "outputs": [
    {
     "name": "stdout",
     "output_type": "stream",
     "text": [
      "             Open        Close\n",
      "1349  6306.733398  6139.014160\n",
      "333    235.766632   233.036133\n",
      "2129  8050.777344  8017.411133\n",
      "286    229.189484   236.299286\n",
      "57     343.771027   337.343628\n",
      "...           ...          ...\n",
      "917   1036.487305   972.326233\n",
      "1893  6620.058105  6712.272461\n",
      "979   1950.307129  2076.438477\n",
      "1277  6772.938965  6443.297852\n",
      "1524  4925.349121  4253.278320\n",
      "\n",
      "[576 rows x 2 columns]\n"
     ]
    }
   ],
   "source": [
    "print(x1_test)"
   ]
  },
  {
   "cell_type": "code",
   "execution_count": 126,
   "id": "8a57043c",
   "metadata": {},
   "outputs": [
    {
     "data": {
      "text/html": [
       "<div>\n",
       "<style scoped>\n",
       "    .dataframe tbody tr th:only-of-type {\n",
       "        vertical-align: middle;\n",
       "    }\n",
       "\n",
       "    .dataframe tbody tr th {\n",
       "        vertical-align: top;\n",
       "    }\n",
       "\n",
       "    .dataframe thead th {\n",
       "        text-align: right;\n",
       "    }\n",
       "</style>\n",
       "<table border=\"1\" class=\"dataframe\">\n",
       "  <thead>\n",
       "    <tr style=\"text-align: right;\">\n",
       "      <th></th>\n",
       "      <th>Actual</th>\n",
       "      <th>Predicted</th>\n",
       "    </tr>\n",
       "  </thead>\n",
       "  <tbody>\n",
       "    <tr>\n",
       "      <th>1349</th>\n",
       "      <td>6139.014160</td>\n",
       "      <td>6139.014160</td>\n",
       "    </tr>\n",
       "    <tr>\n",
       "      <th>333</th>\n",
       "      <td>233.036133</td>\n",
       "      <td>233.036133</td>\n",
       "    </tr>\n",
       "    <tr>\n",
       "      <th>2129</th>\n",
       "      <td>8017.411133</td>\n",
       "      <td>8017.411133</td>\n",
       "    </tr>\n",
       "    <tr>\n",
       "      <th>286</th>\n",
       "      <td>236.299286</td>\n",
       "      <td>236.299286</td>\n",
       "    </tr>\n",
       "    <tr>\n",
       "      <th>57</th>\n",
       "      <td>337.343628</td>\n",
       "      <td>337.343628</td>\n",
       "    </tr>\n",
       "    <tr>\n",
       "      <th>...</th>\n",
       "      <td>...</td>\n",
       "      <td>...</td>\n",
       "    </tr>\n",
       "    <tr>\n",
       "      <th>917</th>\n",
       "      <td>972.326233</td>\n",
       "      <td>972.326233</td>\n",
       "    </tr>\n",
       "    <tr>\n",
       "      <th>1893</th>\n",
       "      <td>6712.272461</td>\n",
       "      <td>6712.272461</td>\n",
       "    </tr>\n",
       "    <tr>\n",
       "      <th>979</th>\n",
       "      <td>2076.438477</td>\n",
       "      <td>2076.438477</td>\n",
       "    </tr>\n",
       "    <tr>\n",
       "      <th>1277</th>\n",
       "      <td>6443.297852</td>\n",
       "      <td>6443.297852</td>\n",
       "    </tr>\n",
       "    <tr>\n",
       "      <th>1524</th>\n",
       "      <td>4253.278320</td>\n",
       "      <td>4253.278320</td>\n",
       "    </tr>\n",
       "  </tbody>\n",
       "</table>\n",
       "<p>576 rows × 2 columns</p>\n",
       "</div>"
      ],
      "text/plain": [
       "           Actual    Predicted\n",
       "1349  6139.014160  6139.014160\n",
       "333    233.036133   233.036133\n",
       "2129  8017.411133  8017.411133\n",
       "286    236.299286   236.299286\n",
       "57     337.343628   337.343628\n",
       "...           ...          ...\n",
       "917    972.326233   972.326233\n",
       "1893  6712.272461  6712.272461\n",
       "979   2076.438477  2076.438477\n",
       "1277  6443.297852  6443.297852\n",
       "1524  4253.278320  4253.278320\n",
       "\n",
       "[576 rows x 2 columns]"
      ]
     },
     "execution_count": 126,
     "metadata": {},
     "output_type": "execute_result"
    }
   ],
   "source": [
    "DF = pd.DataFrame({'Actual': y1_test, 'Predicted': predicted1})\n",
    "DF"
   ]
  },
  {
   "cell_type": "code",
   "execution_count": 129,
   "id": "e3e58b74",
   "metadata": {},
   "outputs": [],
   "source": [
    "DF0 = DF.sort_index(ascending = True)"
   ]
  },
  {
   "cell_type": "code",
   "execution_count": 130,
   "id": "270267a8",
   "metadata": {},
   "outputs": [
    {
     "data": {
      "text/html": [
       "<div>\n",
       "<style scoped>\n",
       "    .dataframe tbody tr th:only-of-type {\n",
       "        vertical-align: middle;\n",
       "    }\n",
       "\n",
       "    .dataframe tbody tr th {\n",
       "        vertical-align: top;\n",
       "    }\n",
       "\n",
       "    .dataframe thead th {\n",
       "        text-align: right;\n",
       "    }\n",
       "</style>\n",
       "<table border=\"1\" class=\"dataframe\">\n",
       "  <thead>\n",
       "    <tr style=\"text-align: right;\">\n",
       "      <th></th>\n",
       "      <th>Actual</th>\n",
       "      <th>Predicted</th>\n",
       "    </tr>\n",
       "  </thead>\n",
       "  <tbody>\n",
       "    <tr>\n",
       "      <th>1</th>\n",
       "      <td>328.539368</td>\n",
       "      <td>328.539368</td>\n",
       "    </tr>\n",
       "    <tr>\n",
       "      <th>6</th>\n",
       "      <td>339.189758</td>\n",
       "      <td>339.189758</td>\n",
       "    </tr>\n",
       "    <tr>\n",
       "      <th>9</th>\n",
       "      <td>318.896851</td>\n",
       "      <td>318.896851</td>\n",
       "    </tr>\n",
       "    <tr>\n",
       "      <th>10</th>\n",
       "      <td>315.029175</td>\n",
       "      <td>315.029175</td>\n",
       "    </tr>\n",
       "    <tr>\n",
       "      <th>11</th>\n",
       "      <td>297.578705</td>\n",
       "      <td>297.578705</td>\n",
       "    </tr>\n",
       "    <tr>\n",
       "      <th>...</th>\n",
       "      <td>...</td>\n",
       "      <td>...</td>\n",
       "    </tr>\n",
       "    <tr>\n",
       "      <th>2278</th>\n",
       "      <td>15525.333010</td>\n",
       "      <td>15525.333010</td>\n",
       "    </tr>\n",
       "    <tr>\n",
       "      <th>2287</th>\n",
       "      <td>18637.574220</td>\n",
       "      <td>18637.574220</td>\n",
       "    </tr>\n",
       "    <tr>\n",
       "      <th>2288</th>\n",
       "      <td>19514.736330</td>\n",
       "      <td>19514.736330</td>\n",
       "    </tr>\n",
       "    <tr>\n",
       "      <th>2292</th>\n",
       "      <td>21683.658200</td>\n",
       "      <td>21683.658200</td>\n",
       "    </tr>\n",
       "    <tr>\n",
       "      <th>2296</th>\n",
       "      <td>23450.607420</td>\n",
       "      <td>23450.607420</td>\n",
       "    </tr>\n",
       "  </tbody>\n",
       "</table>\n",
       "<p>576 rows × 2 columns</p>\n",
       "</div>"
      ],
      "text/plain": [
       "            Actual     Predicted\n",
       "1       328.539368    328.539368\n",
       "6       339.189758    339.189758\n",
       "9       318.896851    318.896851\n",
       "10      315.029175    315.029175\n",
       "11      297.578705    297.578705\n",
       "...            ...           ...\n",
       "2278  15525.333010  15525.333010\n",
       "2287  18637.574220  18637.574220\n",
       "2288  19514.736330  19514.736330\n",
       "2292  21683.658200  21683.658200\n",
       "2296  23450.607420  23450.607420\n",
       "\n",
       "[576 rows x 2 columns]"
      ]
     },
     "execution_count": 130,
     "metadata": {},
     "output_type": "execute_result"
    }
   ],
   "source": [
    "DF0"
   ]
  },
  {
   "cell_type": "code",
   "execution_count": 131,
   "id": "e16c9a0b",
   "metadata": {},
   "outputs": [
    {
     "name": "stdout",
     "output_type": "stream",
     "text": [
      "Mean Absolute Error: 6.810848181733794e-13\n",
      "Mean Squared Error: 7.384285016429624e-25\n",
      "Root Mean Squared Error: 8.593186263796232e-13\n"
     ]
    }
   ],
   "source": [
    "print('Mean Absolute Error:', metrics.mean_absolute_error(y1_test, predicted1))\n",
    "print('Mean Squared Error:', metrics.mean_squared_error(y1_test,predicted1))\n",
    "print('Root Mean Squared Error:', np.sqrt(metrics.mean_squared_error(y1_test, predicted1)))"
   ]
  },
  {
   "cell_type": "code",
   "execution_count": 132,
   "id": "af4a6cf1",
   "metadata": {},
   "outputs": [
    {
     "data": {
      "text/plain": [
       "1.0"
      ]
     },
     "execution_count": 132,
     "metadata": {},
     "output_type": "execute_result"
    }
   ],
   "source": [
    "r2_score(y1_test, predicted1)"
   ]
  },
  {
   "cell_type": "code",
   "execution_count": null,
   "id": "737e62b9",
   "metadata": {},
   "outputs": [],
   "source": []
  }
 ],
 "metadata": {
  "kernelspec": {
   "display_name": "Python 3 (ipykernel)",
   "language": "python",
   "name": "python3"
  },
  "language_info": {
   "codemirror_mode": {
    "name": "ipython",
    "version": 3
   },
   "file_extension": ".py",
   "mimetype": "text/x-python",
   "name": "python",
   "nbconvert_exporter": "python",
   "pygments_lexer": "ipython3",
   "version": "3.10.4"
  }
 },
 "nbformat": 4,
 "nbformat_minor": 5
}
